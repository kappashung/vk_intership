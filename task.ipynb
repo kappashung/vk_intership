{
 "cells": [
  {
   "cell_type": "code",
   "execution_count": 7,
   "id": "f506e526-a7d2-4034-8316-a6bbc1287d44",
   "metadata": {
    "tags": []
   },
   "outputs": [
    {
     "name": "stdout",
     "output_type": "stream",
     "text": [
      "Mean Squared Error: 0.022051994767822106\n"
     ]
    }
   ],
   "source": [
    "import pandas as pd\n",
    "from sklearn.model_selection import train_test_split\n",
    "from sklearn.ensemble import RandomForestRegressor\n",
    "from sklearn.metrics import mean_squared_error\n",
    "\n",
    "train_df = pd.read_csv('train_df.csv')\n",
    "test_df = pd.read_csv('test_df.csv')\n",
    "\n",
    "X_train = train_df.drop(['search_id', 'target'], axis=1)\n",
    "y_train = train_df['target']\n",
    "X_test = test_df.drop(['search_id', 'target'], axis=1)\n",
    "y_test = test_df['target']\n",
    "\n",
    "model = RandomForestRegressor()\n",
    "model.fit(X_train, y_train)\n",
    "\n",
    "predictions = model.predict(X_test)\n",
    "\n",
    "mse = mean_squared_error(y_test, predictions)\n",
    "print(f'Mean Squared Error: {mse:.3f}')"
   ]
  },
  {
   "cell_type": "code",
   "execution_count": 10,
   "id": "3661fba1-6d25-43f9-8b9b-79a73563b77d",
   "metadata": {
    "tags": []
   },
   "outputs": [
    {
     "name": "stdout",
     "output_type": "stream",
     "text": [
      "NDCG для всех документов на тестовом датасете: 0.49\n"
     ]
    }
   ],
   "source": [
    "import numpy as np\n",
    "\n",
    "def dcg(r):\n",
    "    r = np.asfarray(r)\n",
    "    if r.size:\n",
    "        return np.sum((2 ** r - 1) / np.log2(np.arange(2, r.size + 2)))\n",
    "    return 0\n",
    "\n",
    "def ndcg(r):\n",
    "    dcg_max = dcg(sorted(r, reverse=True))\n",
    "    if not dcg_max:\n",
    "        return 0\n",
    "    return dcg(r) / dcg_max\n",
    "\n",
    "rankings = np.argsort(predictions)[::-1]\n",
    "\n",
    "ndcg_score = ndcg(y_test[rankings])\n",
    "print(f'NDCG для всех документов на тестовом датасете: {ndcg_score:.2f}')"
   ]
  },
  {
   "cell_type": "code",
   "execution_count": null,
   "id": "efc57151-4b10-458b-be3e-49c16e439162",
   "metadata": {},
   "outputs": [],
   "source": []
  }
 ],
 "metadata": {
  "kernelspec": {
   "display_name": "Python 3 (ipykernel)",
   "language": "python",
   "name": "python3"
  },
  "language_info": {
   "codemirror_mode": {
    "name": "ipython",
    "version": 3
   },
   "file_extension": ".py",
   "mimetype": "text/x-python",
   "name": "python",
   "nbconvert_exporter": "python",
   "pygments_lexer": "ipython3",
   "version": "3.10.12"
  }
 },
 "nbformat": 4,
 "nbformat_minor": 5
}
